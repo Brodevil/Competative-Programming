{
 "cells": [
  {
   "cell_type": "code",
   "execution_count": 2,
   "id": "unauthorized-patent",
   "metadata": {},
   "outputs": [],
   "source": [
    "import numpy as np"
   ]
  },
  {
   "cell_type": "code",
   "execution_count": 2,
   "id": "deluxe-daniel",
   "metadata": {},
   "outputs": [],
   "source": [
    "numpy_arr = np.array([1, 2, 0, 9, 6, 7], np.int32)"
   ]
  },
  {
   "cell_type": "code",
   "execution_count": 3,
   "id": "ready-speaker",
   "metadata": {},
   "outputs": [],
   "source": [
    "arr = np.array([[1, 3, 56], [3, 5, 0], [3, 54, 56], [0, 890, 234908]], np.int64)"
   ]
  },
  {
   "cell_type": "code",
   "execution_count": 4,
   "id": "amino-narrow",
   "metadata": {},
   "outputs": [
    {
     "name": "stdout",
     "output_type": "stream",
     "text": [
      "[[     1      3     56]\n",
      " [     3      5      0]\n",
      " [     3     54     56]\n",
      " [     0    890 234908]]\n",
      "0\n",
      "(4, 3)\n",
      "int64\n"
     ]
    }
   ],
   "source": [
    "print(arr)\n",
    "print(arr[3, 0])     # acessing elements like this bro\n",
    "print(arr.shape)      # this show the number of row i.e. 4 and 3 are the column\n",
    "print(arr.dtype)"
   ]
  },
  {
   "cell_type": "code",
   "execution_count": null,
   "id": "sustained-sacramento",
   "metadata": {},
   "outputs": [],
   "source": []
  },
  {
   "cell_type": "code",
   "execution_count": 5,
   "id": "spectacular-teaching",
   "metadata": {},
   "outputs": [],
   "source": [
    "arrays = np.array([1, 2, 4, 5], np.int8)"
   ]
  },
  {
   "cell_type": "code",
   "execution_count": 6,
   "id": "consecutive-trinidad",
   "metadata": {},
   "outputs": [
    {
     "name": "stdout",
     "output_type": "stream",
     "text": [
      "9\n",
      "[1 2 4 5]\n",
      "(6,)\n",
      "(4,)\n",
      "int8\n"
     ]
    }
   ],
   "source": [
    "print(numpy_arr[3])\n",
    "\n",
    "print(arrays)\n",
    "print(numpy_arr.shape)\n",
    "print(arrays.shape)\n",
    "print(arrays.dtype)              # giving us the data type"
   ]
  },
  {
   "cell_type": "code",
   "execution_count": 7,
   "id": "found-expert",
   "metadata": {},
   "outputs": [],
   "source": [
    "bro_arr = np.array([[\"abhinav\", \"kumar\", \"Choudhary\"], [\"to\", \"kese\", \"Hai\", \"aap\", \"log\"]], dtype=object)"
   ]
  },
  {
   "cell_type": "code",
   "execution_count": 8,
   "id": "tired-crossing",
   "metadata": {},
   "outputs": [
    {
     "name": "stdout",
     "output_type": "stream",
     "text": [
      "(2,)\n",
      "object\n"
     ]
    }
   ],
   "source": [
    "print(bro_arr.shape)\n",
    "print(bro_arr.dtype)\n"
   ]
  },
  {
   "cell_type": "code",
   "execution_count": 9,
   "id": "induced-topic",
   "metadata": {
    "scrolled": true
   },
   "outputs": [
    {
     "name": "stdout",
     "output_type": "stream",
     "text": [
      "[['abhinav', 'kumar', 'Choudhary'], ['to', 'kese', 'Hai', 'aap', 'log']]\n",
      "<class 'list'>\n",
      "to\n"
     ]
    }
   ],
   "source": [
    "bro_arr = list(bro_arr)\n",
    "print(bro_arr)\n",
    "print(type(bro_arr))\n",
    "print(bro_arr[1][0])    # here we have to act as simple as list are"
   ]
  },
  {
   "cell_type": "code",
   "execution_count": 10,
   "id": "arctic-shakespeare",
   "metadata": {},
   "outputs": [
    {
     "name": "stdout",
     "output_type": "stream",
     "text": [
      "[1 2 4 5]\n",
      "[[     1      3     56]\n",
      " [     3      5      0]\n",
      " [     3     54     56]\n",
      " [     0    890 234908]]\n"
     ]
    }
   ],
   "source": [
    "print(arrays)\n",
    "print(arr)"
   ]
  },
  {
   "cell_type": "code",
   "execution_count": 11,
   "id": "multiple-patio",
   "metadata": {},
   "outputs": [],
   "source": [
    "arrays[0] = 9\n",
    "arr[1, 2] = 90"
   ]
  },
  {
   "cell_type": "code",
   "execution_count": 12,
   "id": "optimum-newton",
   "metadata": {},
   "outputs": [
    {
     "name": "stdout",
     "output_type": "stream",
     "text": [
      "[9 2 4 5]\n",
      "[[     1      3     56]\n",
      " [     3      5     90]\n",
      " [     3     54     56]\n",
      " [     0    890 234908]]\n"
     ]
    }
   ],
   "source": [
    "print(arrays)\n",
    "print(arr)"
   ]
  },
  {
   "cell_type": "code",
   "execution_count": null,
   "id": "educational-behalf",
   "metadata": {},
   "outputs": [],
   "source": [
    "\n"
   ]
  },
  {
   "cell_type": "markdown",
   "id": "provincial-alias",
   "metadata": {},
   "source": [
    "### Array Creation : Conversion from other Python structures (e.g., lists, tuples)"
   ]
  },
  {
   "cell_type": "code",
   "execution_count": 13,
   "id": "regulated-korean",
   "metadata": {},
   "outputs": [],
   "source": [
    "listarray = np.array([[9, 3, 0], [2, 97, -82], [-82, -90, 102], [1, 90, 34]])"
   ]
  },
  {
   "cell_type": "code",
   "execution_count": 14,
   "id": "suspected-central",
   "metadata": {},
   "outputs": [
    {
     "name": "stdout",
     "output_type": "stream",
     "text": [
      "[[  9   3   0]\n",
      " [  2  97 -82]\n",
      " [-82 -90 102]\n",
      " [  1  90  34]]\n",
      "12\n",
      "(4, 3)\n",
      "int32\n"
     ]
    }
   ],
   "source": [
    "print(listarray)\n",
    "print(listarray.size)\n",
    "print(listarray.shape)\n",
    "print(listarray.dtype)"
   ]
  },
  {
   "cell_type": "code",
   "execution_count": 15,
   "id": "preliminary-government",
   "metadata": {},
   "outputs": [],
   "source": [
    "tuplearray = np.array(((2, 0), (-9, 32), (324, -324)))"
   ]
  },
  {
   "cell_type": "code",
   "execution_count": 16,
   "id": "bizarre-cleaner",
   "metadata": {},
   "outputs": [
    {
     "name": "stdout",
     "output_type": "stream",
     "text": [
      "[[   2    0]\n",
      " [  -9   32]\n",
      " [ 324 -324]]\n",
      "(3, 2)\n",
      "int32\n",
      "6\n"
     ]
    }
   ],
   "source": [
    "print(tuplearray)\n",
    "print(tuplearray.shape)\n",
    "print(tuplearray.dtype)\n",
    "print(tuplearray.size)"
   ]
  },
  {
   "cell_type": "code",
   "execution_count": null,
   "id": "extraordinary-payroll",
   "metadata": {},
   "outputs": [],
   "source": []
  },
  {
   "cell_type": "markdown",
   "id": "hawaiian-success",
   "metadata": {},
   "source": [
    "### Array Creation : Intrinsic numpy array creation objects (e.g., arange, ones, zeros, etc.)"
   ]
  },
  {
   "cell_type": "code",
   "execution_count": 17,
   "id": "established-season",
   "metadata": {},
   "outputs": [],
   "source": [
    "# zeros function in numpy\n",
    "\n",
    "zeros = np.zeros((3, 5))     # this will create a array of zeros with 3 rows and 5 column, indirectly this is shape"
   ]
  },
  {
   "cell_type": "code",
   "execution_count": 18,
   "id": "advance-ivory",
   "metadata": {},
   "outputs": [
    {
     "name": "stdout",
     "output_type": "stream",
     "text": [
      "[[0. 0. 0. 0. 0.]\n",
      " [0. 0. 0. 0. 0.]\n",
      " [0. 0. 0. 0. 0.]]\n",
      "(3, 5)\n",
      "float64\n",
      "15\n"
     ]
    }
   ],
   "source": [
    "print(zeros)\n",
    "print(zeros.shape)\n",
    "print(zeros.dtype)\n",
    "print(zeros.size)"
   ]
  },
  {
   "cell_type": "code",
   "execution_count": null,
   "id": "everyday-found",
   "metadata": {},
   "outputs": [],
   "source": []
  },
  {
   "cell_type": "code",
   "execution_count": 19,
   "id": "least-corps",
   "metadata": {},
   "outputs": [],
   "source": [
    "# arange function in numpy\n",
    "\n",
    "rng = np.arange(100, 10, -10)     # this is also same as range() in python return the array"
   ]
  },
  {
   "cell_type": "code",
   "execution_count": 20,
   "id": "african-vietnamese",
   "metadata": {},
   "outputs": [
    {
     "name": "stdout",
     "output_type": "stream",
     "text": [
      "[100  90  80  70  60  50  40  30  20]\n",
      "(9,)\n",
      "int32\n",
      "9\n"
     ]
    }
   ],
   "source": [
    "print(rng)\n",
    "print(rng.shape)\n",
    "print(rng.dtype)\n",
    "print(rng.size)"
   ]
  },
  {
   "cell_type": "code",
   "execution_count": null,
   "id": "educated-associate",
   "metadata": {},
   "outputs": [],
   "source": []
  },
  {
   "cell_type": "code",
   "execution_count": 21,
   "id": "demanding-death",
   "metadata": {},
   "outputs": [],
   "source": [
    "# linspace function in numpy\n",
    "\n",
    "linspace = np.linspace(100, 1000, 50)     # this will return a array of equal 50 space between 100 to 1000"
   ]
  },
  {
   "cell_type": "code",
   "execution_count": 22,
   "id": "employed-despite",
   "metadata": {
    "scrolled": true
   },
   "outputs": [
    {
     "name": "stdout",
     "output_type": "stream",
     "text": [
      "[ 100.          118.36734694  136.73469388  155.10204082  173.46938776\n",
      "  191.83673469  210.20408163  228.57142857  246.93877551  265.30612245\n",
      "  283.67346939  302.04081633  320.40816327  338.7755102   357.14285714\n",
      "  375.51020408  393.87755102  412.24489796  430.6122449   448.97959184\n",
      "  467.34693878  485.71428571  504.08163265  522.44897959  540.81632653\n",
      "  559.18367347  577.55102041  595.91836735  614.28571429  632.65306122\n",
      "  651.02040816  669.3877551   687.75510204  706.12244898  724.48979592\n",
      "  742.85714286  761.2244898   779.59183673  797.95918367  816.32653061\n",
      "  834.69387755  853.06122449  871.42857143  889.79591837  908.16326531\n",
      "  926.53061224  944.89795918  963.26530612  981.63265306 1000.        ]\n",
      "(50,)\n",
      "float64\n",
      "50\n"
     ]
    }
   ],
   "source": [
    "print(linspace)\n",
    "print(linspace.shape)\n",
    "print(linspace.dtype)\n",
    "print(linspace.size)\n"
   ]
  },
  {
   "cell_type": "code",
   "execution_count": null,
   "id": "nutritional-crash",
   "metadata": {},
   "outputs": [],
   "source": []
  },
  {
   "cell_type": "code",
   "execution_count": 23,
   "id": "engaged-moldova",
   "metadata": {},
   "outputs": [],
   "source": [
    "# Empty function in python\n",
    "\n",
    "empty = np.empty((5, 10))      # this return the the array of sape (5, 10) 5 rows 10 column and in that all the random numbers will there present"
   ]
  },
  {
   "cell_type": "code",
   "execution_count": 24,
   "id": "obvious-nevada",
   "metadata": {},
   "outputs": [
    {
     "name": "stdout",
     "output_type": "stream",
     "text": [
      "[[ 100.          118.36734694  136.73469388  155.10204082  173.46938776\n",
      "   191.83673469  210.20408163  228.57142857  246.93877551  265.30612245]\n",
      " [ 283.67346939  302.04081633  320.40816327  338.7755102   357.14285714\n",
      "   375.51020408  393.87755102  412.24489796  430.6122449   448.97959184]\n",
      " [ 467.34693878  485.71428571  504.08163265  522.44897959  540.81632653\n",
      "   559.18367347  577.55102041  595.91836735  614.28571429  632.65306122]\n",
      " [ 651.02040816  669.3877551   687.75510204  706.12244898  724.48979592\n",
      "   742.85714286  761.2244898   779.59183673  797.95918367  816.32653061]\n",
      " [ 834.69387755  853.06122449  871.42857143  889.79591837  908.16326531\n",
      "   926.53061224  944.89795918  963.26530612  981.63265306 1000.        ]]\n",
      "(5, 10)\n",
      "float64\n",
      "50\n"
     ]
    }
   ],
   "source": [
    "print(empty)\n",
    "print(empty.shape)   # this is also (5, 10)\n",
    "print(empty.dtype)\n",
    "print(empty.size)    # total size of all the elements"
   ]
  },
  {
   "cell_type": "code",
   "execution_count": null,
   "id": "sharing-millennium",
   "metadata": {},
   "outputs": [],
   "source": []
  },
  {
   "cell_type": "code",
   "execution_count": 25,
   "id": "narrative-increase",
   "metadata": {},
   "outputs": [],
   "source": [
    "# empty like function in numpyt\n",
    "\n",
    "empty_like = np.empty_like(linspace)      # this takes any array and make the copy of it, now in this we can change or parsed do any thing which we want\n"
   ]
  },
  {
   "cell_type": "code",
   "execution_count": 26,
   "id": "lyric-iceland",
   "metadata": {},
   "outputs": [
    {
     "name": "stdout",
     "output_type": "stream",
     "text": [
      "[ 100.          118.36734694  136.73469388  155.10204082  173.46938776\n",
      "  191.83673469  210.20408163  228.57142857  246.93877551  265.30612245\n",
      "  283.67346939  302.04081633  320.40816327  338.7755102   357.14285714\n",
      "  375.51020408  393.87755102  412.24489796  430.6122449   448.97959184\n",
      "  467.34693878  485.71428571  504.08163265  522.44897959  540.81632653\n",
      "  559.18367347  577.55102041  595.91836735  614.28571429  632.65306122\n",
      "  651.02040816  669.3877551   687.75510204  706.12244898  724.48979592\n",
      "  742.85714286  761.2244898   779.59183673  797.95918367  816.32653061\n",
      "  834.69387755  853.06122449  871.42857143  889.79591837  908.16326531\n",
      "  926.53061224  944.89795918  963.26530612  981.63265306 1000.        ]\n",
      "(50,)\n",
      "float64\n",
      "50\n"
     ]
    }
   ],
   "source": [
    "print(empty_like)\n",
    "print(empty_like.shape)\n",
    "print(empty_like.dtype)\n",
    "print(empty_like.size)"
   ]
  },
  {
   "cell_type": "code",
   "execution_count": null,
   "id": "structured-rover",
   "metadata": {},
   "outputs": [],
   "source": []
  },
  {
   "cell_type": "code",
   "execution_count": 27,
   "id": "essential-craft",
   "metadata": {},
   "outputs": [],
   "source": [
    "# Identity function in numpy\n",
    "\n",
    "identity = np.identity(50)    # this return the identity metrix array of (50, 50) shape"
   ]
  },
  {
   "cell_type": "code",
   "execution_count": 28,
   "id": "capital-crisis",
   "metadata": {},
   "outputs": [
    {
     "name": "stdout",
     "output_type": "stream",
     "text": [
      "[[1. 0. 0. ... 0. 0. 0.]\n",
      " [0. 1. 0. ... 0. 0. 0.]\n",
      " [0. 0. 1. ... 0. 0. 0.]\n",
      " ...\n",
      " [0. 0. 0. ... 1. 0. 0.]\n",
      " [0. 0. 0. ... 0. 1. 0.]\n",
      " [0. 0. 0. ... 0. 0. 1.]]\n",
      "(50, 50)\n",
      "float64\n",
      "2500\n"
     ]
    }
   ],
   "source": [
    "print(identity)\n",
    "print(identity.shape)\n",
    "print(identity.dtype)\n",
    "print(identity.size)"
   ]
  },
  {
   "cell_type": "code",
   "execution_count": null,
   "id": "indirect-button",
   "metadata": {},
   "outputs": [],
   "source": []
  },
  {
   "cell_type": "code",
   "execution_count": 29,
   "id": "developing-replication",
   "metadata": {},
   "outputs": [
    {
     "name": "stdout",
     "output_type": "stream",
     "text": [
      "[ 0  1  2  3  4  5  6  7  8  9 10 11 12 13 14 15 16 17 18 19 20 21 22 23\n",
      " 24 25 26 27 28 29 30 31 32 33 34 35 36 37 38 39 40 41 42 43 44 45 46 47\n",
      " 48 49 50 51 52 53 54 55 56 57 58 59 60 61 62 63 64 65 66 67 68 69 70 71\n",
      " 72 73 74 75 76 77 78 79 80 81 82 83 84 85 86 87 88 89 90 91 92 93 94 95\n",
      " 96 97 98 99]\n"
     ]
    }
   ],
   "source": [
    "# reshape function in numpy\n",
    "\n",
    "arr = np.arange(100)     # this is one dimentional array okay just for example\n",
    "print(arr)"
   ]
  },
  {
   "cell_type": "code",
   "execution_count": 30,
   "id": "comprehensive-marking",
   "metadata": {},
   "outputs": [],
   "source": [
    "arr = arr.reshape(20, 5)         # now I suppose to return the reshaped of the array as the there shape in argument\n",
    "\n",
    "# note : the element shoud be fit i.e. 20*5 = len(arr) other wise it will through the error\n",
    "# try to put arr.reshape(30, 20)    # this will definatly thorw an error"
   ]
  },
  {
   "cell_type": "code",
   "execution_count": 31,
   "id": "sophisticated-yorkshire",
   "metadata": {},
   "outputs": [
    {
     "name": "stdout",
     "output_type": "stream",
     "text": [
      "[[ 0  1  2  3  4]\n",
      " [ 5  6  7  8  9]\n",
      " [10 11 12 13 14]\n",
      " [15 16 17 18 19]\n",
      " [20 21 22 23 24]\n",
      " [25 26 27 28 29]\n",
      " [30 31 32 33 34]\n",
      " [35 36 37 38 39]\n",
      " [40 41 42 43 44]\n",
      " [45 46 47 48 49]\n",
      " [50 51 52 53 54]\n",
      " [55 56 57 58 59]\n",
      " [60 61 62 63 64]\n",
      " [65 66 67 68 69]\n",
      " [70 71 72 73 74]\n",
      " [75 76 77 78 79]\n",
      " [80 81 82 83 84]\n",
      " [85 86 87 88 89]\n",
      " [90 91 92 93 94]\n",
      " [95 96 97 98 99]]\n",
      "(20, 5)\n"
     ]
    }
   ],
   "source": [
    "print(arr)            # note that even you can reshpae it while creating it\n",
    "print(arr.shape)     # as per the reshape argument\n",
    "\n",
    "# arr = np.arange(100).reshape(20, 5)     # samjh aa raha hai bhai"
   ]
  },
  {
   "cell_type": "code",
   "execution_count": null,
   "id": "mobile-healthcare",
   "metadata": {},
   "outputs": [],
   "source": []
  },
  {
   "cell_type": "code",
   "execution_count": 32,
   "id": "synthetic-wayne",
   "metadata": {},
   "outputs": [],
   "source": [
    "# ravel() fucntion in numpy\n",
    "\n",
    "arr = arr.ravel()     # this return the array in just one dimentional"
   ]
  },
  {
   "cell_type": "code",
   "execution_count": 33,
   "id": "disabled-spoke",
   "metadata": {},
   "outputs": [
    {
     "name": "stdout",
     "output_type": "stream",
     "text": [
      "[ 0  1  2  3  4  5  6  7  8  9 10 11 12 13 14 15 16 17 18 19 20 21 22 23\n",
      " 24 25 26 27 28 29 30 31 32 33 34 35 36 37 38 39 40 41 42 43 44 45 46 47\n",
      " 48 49 50 51 52 53 54 55 56 57 58 59 60 61 62 63 64 65 66 67 68 69 70 71\n",
      " 72 73 74 75 76 77 78 79 80 81 82 83 84 85 86 87 88 89 90 91 92 93 94 95\n",
      " 96 97 98 99]\n",
      "(100,)\n"
     ]
    }
   ],
   "source": [
    "print(arr)\n",
    "print(arr.shape)\n",
    "\n",
    "# arr = np.arane(100).reshape(20, 50).ravel().reshape(20, 5)      # here also the python logic is same bro"
   ]
  },
  {
   "cell_type": "code",
   "execution_count": null,
   "id": "quality-terrace",
   "metadata": {},
   "outputs": [],
   "source": []
  },
  {
   "cell_type": "markdown",
   "id": "alien-register",
   "metadata": {},
   "source": [
    "**Important topic Numpy Axis :**"
   ]
  },
  {
   "cell_type": "code",
   "execution_count": 34,
   "id": "frank-celtic",
   "metadata": {},
   "outputs": [],
   "source": [
    "x = [[11, 22, 33], [44, 55, 66], [77, 88, 99]]"
   ]
  },
  {
   "cell_type": "code",
   "execution_count": 35,
   "id": "adult-selection",
   "metadata": {},
   "outputs": [],
   "source": [
    "ax = np.array(x)"
   ]
  },
  {
   "cell_type": "code",
   "execution_count": 36,
   "id": "solar-revelation",
   "metadata": {},
   "outputs": [
    {
     "name": "stdout",
     "output_type": "stream",
     "text": [
      "[[11 22 33]\n",
      " [44 55 66]\n",
      " [77 88 99]]\n"
     ]
    }
   ],
   "source": [
    "print(ax)"
   ]
  },
  {
   "cell_type": "code",
   "execution_count": 37,
   "id": "headed-blair",
   "metadata": {},
   "outputs": [
    {
     "name": "stdout",
     "output_type": "stream",
     "text": [
      "[132 165 198]\n",
      "[ 66 165 264]\n"
     ]
    }
   ],
   "source": [
    "print(ax.sum(axis=0))      # 0 axis is column\n",
    "print(ax.sum(axis=1))      # 1 axis is row  \n",
    "\n",
    "# return the sum of axis 0 = 11 + 44 + 77 = 132, 22 + 55 + 88 = 165, 33 +66 +99 = 198 \n",
    "# now all the sum are put in the array as per there position \n",
    "# [132, 165, 198]\n"
   ]
  },
  {
   "cell_type": "code",
   "execution_count": null,
   "id": "progressive-fighter",
   "metadata": {},
   "outputs": [],
   "source": []
  },
  {
   "cell_type": "code",
   "execution_count": 38,
   "id": "nuclear-accordance",
   "metadata": {},
   "outputs": [
    {
     "name": "stdout",
     "output_type": "stream",
     "text": [
      "[[11 44 77]\n",
      " [22 55 88]\n",
      " [33 66 99]]\n"
     ]
    }
   ],
   "source": [
    "# .T method is return the Transpose array      i.e. axis 0 to axis 1 and axis 1 to axis 0\n",
    "print(ax.T)     # column to row and row to column"
   ]
  },
  {
   "cell_type": "code",
   "execution_count": null,
   "id": "inside-cancer",
   "metadata": {},
   "outputs": [],
   "source": []
  },
  {
   "cell_type": "code",
   "execution_count": 39,
   "id": "british-tobago",
   "metadata": {},
   "outputs": [
    {
     "name": "stdout",
     "output_type": "stream",
     "text": [
      "11\n",
      "22\n",
      "33\n",
      "44\n",
      "55\n",
      "66\n",
      "77\n",
      "88\n",
      "99\n"
     ]
    }
   ],
   "source": [
    "# .flat method is retuning the iterator which can easily iterate over for loop or by next() function or by __next__() method\n",
    "iterarr = ax.flat\n",
    "\n",
    "print(iterarr.__next__())\n",
    "print(next(iterarr))\n",
    "\n",
    "for iterm in iterarr:\n",
    "    print(iterm)\n"
   ]
  },
  {
   "cell_type": "code",
   "execution_count": 40,
   "id": "reliable-charlotte",
   "metadata": {},
   "outputs": [
    {
     "name": "stdout",
     "output_type": "stream",
     "text": [
      "11 22 33\n",
      "[11 22 33]\n",
      "44 55 66\n",
      "[44 55 66]\n",
      "77 88 99\n",
      "[77 88 99]\n"
     ]
    }
   ],
   "source": [
    "# this will normal for loop\n",
    "\n",
    "for i in ax:\n",
    "    print(*i)\n",
    "    print(i)"
   ]
  },
  {
   "cell_type": "code",
   "execution_count": 41,
   "id": "documentary-reduction",
   "metadata": {},
   "outputs": [
    {
     "name": "stdout",
     "output_type": "stream",
     "text": [
      "2\n"
     ]
    }
   ],
   "source": [
    "print(ax.ndim)"
   ]
  },
  {
   "cell_type": "code",
   "execution_count": 42,
   "id": "concerned-legislation",
   "metadata": {},
   "outputs": [
    {
     "name": "stdout",
     "output_type": "stream",
     "text": [
      "36\n"
     ]
    }
   ],
   "source": [
    "print(ax.nbytes)"
   ]
  },
  {
   "cell_type": "code",
   "execution_count": 43,
   "id": "exterior-trigger",
   "metadata": {},
   "outputs": [
    {
     "name": "stdout",
     "output_type": "stream",
     "text": [
      "9\n"
     ]
    }
   ],
   "source": [
    "print(ax.size)"
   ]
  },
  {
   "cell_type": "code",
   "execution_count": 44,
   "id": "hollow-american",
   "metadata": {},
   "outputs": [
    {
     "name": "stdout",
     "output_type": "stream",
     "text": [
      "(3, 3)\n"
     ]
    }
   ],
   "source": [
    "print(ax.shape)"
   ]
  },
  {
   "cell_type": "code",
   "execution_count": null,
   "id": "alpine-wallace",
   "metadata": {},
   "outputs": [],
   "source": []
  },
  {
   "cell_type": "code",
   "execution_count": 45,
   "id": "ultimate-honor",
   "metadata": {},
   "outputs": [],
   "source": [
    "one = np.array([1, 9, 3, 5, 7, 8, 2, 0])"
   ]
  },
  {
   "cell_type": "code",
   "execution_count": 46,
   "id": "alike-turtle",
   "metadata": {
    "scrolled": true
   },
   "outputs": [
    {
     "name": "stdout",
     "output_type": "stream",
     "text": [
      "1\n",
      "7\n"
     ]
    },
    {
     "data": {
      "text/plain": [
       "array([7, 0, 6, 2, 3, 4, 5, 1], dtype=int64)"
      ]
     },
     "execution_count": 46,
     "metadata": {},
     "output_type": "execute_result"
    }
   ],
   "source": [
    "print(one.argmax())     # argument's maximus : the maximum value's index\n",
    "print(one.argmin())     # minimum argument : the minimum value's index\n",
    "one.argsort()           # sort the value but return the list of index in sorted form just like smallest value is 0 so it will return a list[0]= 7 cause 0 is on 7th index bro\n",
    "\n",
    "# this was on 1d array"
   ]
  },
  {
   "cell_type": "code",
   "execution_count": null,
   "id": "combined-survey",
   "metadata": {},
   "outputs": [],
   "source": []
  },
  {
   "cell_type": "code",
   "execution_count": 47,
   "id": "closing-oliver",
   "metadata": {},
   "outputs": [
    {
     "data": {
      "text/plain": [
       "array([[11, 22, 33],\n",
       "       [44, 55, 66],\n",
       "       [77, 88, 99]])"
      ]
     },
     "execution_count": 47,
     "metadata": {},
     "output_type": "execute_result"
    }
   ],
   "source": [
    "ax"
   ]
  },
  {
   "cell_type": "code",
   "execution_count": 48,
   "id": "generic-argument",
   "metadata": {},
   "outputs": [
    {
     "data": {
      "text/plain": [
       "0"
      ]
     },
     "execution_count": 48,
     "metadata": {},
     "output_type": "execute_result"
    }
   ],
   "source": [
    "ax.argmin()      # first it had converted or assumed as a 1d list and return its index, 11's index is 0 and 11 is smalled number here"
   ]
  },
  {
   "cell_type": "code",
   "execution_count": 49,
   "id": "according-barrel",
   "metadata": {},
   "outputs": [
    {
     "data": {
      "text/plain": [
       "8"
      ]
     },
     "execution_count": 49,
     "metadata": {},
     "output_type": "execute_result"
    }
   ],
   "source": [
    "ax.argmax()     # convert in 1d array then return the index of maximum value which is 99 and its index will be 8"
   ]
  },
  {
   "cell_type": "code",
   "execution_count": 50,
   "id": "fluid-hazard",
   "metadata": {},
   "outputs": [
    {
     "data": {
      "text/plain": [
       "array([2, 2, 2], dtype=int64)"
      ]
     },
     "execution_count": 50,
     "metadata": {},
     "output_type": "execute_result"
    }
   ],
   "source": [
    "ax.argmax(axis=0)    # 0 axis se dekh kr chalo in ax[1] , 2nd index is heighest in ax[2], 2nd index is heighest and in ax[3] 2nd index is hieghest\n",
    "\n"
   ]
  },
  {
   "cell_type": "code",
   "execution_count": 51,
   "id": "visible-understanding",
   "metadata": {},
   "outputs": [
    {
     "data": {
      "text/plain": [
       "array([0, 0, 0], dtype=int64)"
      ]
     },
     "execution_count": 51,
     "metadata": {},
     "output_type": "execute_result"
    }
   ],
   "source": [
    "ax.argmin(axis=1)     # samjh rahe ho, samjh rahe ho n"
   ]
  },
  {
   "cell_type": "code",
   "execution_count": 52,
   "id": "incomplete-corps",
   "metadata": {},
   "outputs": [
    {
     "data": {
      "text/plain": [
       "array([[0, 1, 2],\n",
       "       [0, 1, 2],\n",
       "       [0, 1, 2]], dtype=int64)"
      ]
     },
     "execution_count": 52,
     "metadata": {},
     "output_type": "execute_result"
    }
   ],
   "source": [
    "ax.argsort()     # gaving the index yar to all the element in sorted form"
   ]
  },
  {
   "cell_type": "code",
   "execution_count": 53,
   "id": "palestinian-protection",
   "metadata": {},
   "outputs": [
    {
     "data": {
      "text/plain": [
       "array([[9, 3, 3, 0],\n",
       "       [3, 5, 7, 2],\n",
       "       [3, 6, 1, 0]])"
      ]
     },
     "execution_count": 53,
     "metadata": {},
     "output_type": "execute_result"
    }
   ],
   "source": [
    "example = np.array([[9, 3, 3, 0], [3, 5, 7, 2], [3, 6, 1, 0]], np.int32)\n",
    "example"
   ]
  },
  {
   "cell_type": "code",
   "execution_count": 54,
   "id": "least-lancaster",
   "metadata": {},
   "outputs": [
    {
     "data": {
      "text/plain": [
       "array([[3, 1, 2, 0],\n",
       "       [3, 0, 1, 2],\n",
       "       [3, 2, 0, 1]], dtype=int64)"
      ]
     },
     "execution_count": 54,
     "metadata": {},
     "output_type": "execute_result"
    }
   ],
   "source": [
    "example.argsort()    # dekh rahe ho, sort kerke de diya na, esse hum axis ke sath bhi kr sakte hai yad rakhna\n",
    "\n",
    "# axis=1 by default, samjh rahe ho balak"
   ]
  },
  {
   "cell_type": "code",
   "execution_count": 55,
   "id": "comic-thumb",
   "metadata": {},
   "outputs": [
    {
     "data": {
      "text/plain": [
       "array([[1, 0, 2, 0],\n",
       "       [2, 1, 0, 2],\n",
       "       [0, 2, 1, 1]], dtype=int64)"
      ]
     },
     "execution_count": 55,
     "metadata": {},
     "output_type": "execute_result"
    }
   ],
   "source": [
    "example.argsort(axis=0)    # here the all elements are on its own place, but assuming the axis 0 we are getting the sorted form"
   ]
  },
  {
   "cell_type": "code",
   "execution_count": null,
   "id": "dated-moment",
   "metadata": {},
   "outputs": [],
   "source": []
  },
  {
   "cell_type": "code",
   "execution_count": 56,
   "id": "united-chaos",
   "metadata": {},
   "outputs": [
    {
     "data": {
      "text/plain": [
       "array([9, 3, 3, 0, 3, 5, 7, 2, 3, 6, 1, 0])"
      ]
     },
     "execution_count": 56,
     "metadata": {},
     "output_type": "execute_result"
    }
   ],
   "source": [
    "example.ravel()"
   ]
  },
  {
   "cell_type": "code",
   "execution_count": 58,
   "id": "single-planet",
   "metadata": {},
   "outputs": [
    {
     "data": {
      "text/plain": [
       "array([[9, 3, 3, 0],\n",
       "       [3, 5, 7, 2],\n",
       "       [3, 6, 1, 0]])"
      ]
     },
     "execution_count": 58,
     "metadata": {},
     "output_type": "execute_result"
    }
   ],
   "source": [
    "example.reshape(3, 4)"
   ]
  },
  {
   "cell_type": "code",
   "execution_count": null,
   "id": "according-qualification",
   "metadata": {},
   "outputs": [],
   "source": []
  },
  {
   "cell_type": "code",
   "execution_count": 5,
   "id": "southern-green",
   "metadata": {},
   "outputs": [],
   "source": [
    "abhinav = np.random.rand(5, 3, 5, 8)"
   ]
  },
  {
   "cell_type": "code",
   "execution_count": 6,
   "id": "84f6361a",
   "metadata": {},
   "outputs": [
    {
     "data": {
      "text/plain": [
       "array([[[[0.16445296, 0.11294137, 0.60955476, 0.88634158, 0.43963731,\n",
       "          0.49963254, 0.89445963, 0.18512882],\n",
       "         [0.01014466, 0.09010101, 0.35961092, 0.19036107, 0.67094363,\n",
       "          0.70081582, 0.94005827, 0.83885817],\n",
       "         [0.81277335, 0.621121  , 0.11540302, 0.73680052, 0.01553957,\n",
       "          0.70650928, 0.1101616 , 0.98487246],\n",
       "         [0.05441426, 0.3631649 , 0.7261117 , 0.95708426, 0.85427412,\n",
       "          0.70360771, 0.84493964, 0.3773344 ],\n",
       "         [0.06958051, 0.83728012, 0.05150438, 0.211901  , 0.35801518,\n",
       "          0.85203494, 0.14558761, 0.42370164]],\n",
       "\n",
       "        [[0.04726284, 0.20860545, 0.76300986, 0.94089662, 0.1303792 ,\n",
       "          0.11628101, 0.28438971, 0.50781344],\n",
       "         [0.77169706, 0.08303018, 0.03957199, 0.47708598, 0.45750001,\n",
       "          0.49152843, 0.93015332, 0.31820941],\n",
       "         [0.5922991 , 0.9508116 , 0.73618171, 0.58034949, 0.15549215,\n",
       "          0.58217038, 0.68844396, 0.32666201],\n",
       "         [0.74055303, 0.19213433, 0.15200879, 0.9322308 , 0.86997039,\n",
       "          0.78935204, 0.45858904, 0.37841774],\n",
       "         [0.04341584, 0.33950791, 0.20707935, 0.20188677, 0.54776869,\n",
       "          0.82121896, 0.18434809, 0.50406634]],\n",
       "\n",
       "        [[0.86505398, 0.73885694, 0.78432048, 0.4108466 , 0.59415106,\n",
       "          0.91709347, 0.67467904, 0.17576617],\n",
       "         [0.41997837, 0.24681858, 0.30188347, 0.23862045, 0.94544931,\n",
       "          0.35354037, 0.90341607, 0.83872064],\n",
       "         [0.75780853, 0.29533701, 0.91046917, 0.86282891, 0.85333462,\n",
       "          0.56921572, 0.55793548, 0.51742831],\n",
       "         [0.19375306, 0.500154  , 0.91132403, 0.12131455, 0.10055597,\n",
       "          0.45462231, 0.84437227, 0.33839654],\n",
       "         [0.29343174, 0.24359641, 0.70611408, 0.94271163, 0.59572216,\n",
       "          0.772629  , 0.17176301, 0.62556897]]],\n",
       "\n",
       "\n",
       "       [[[0.82493807, 0.64102452, 0.69878122, 0.21923257, 0.89862332,\n",
       "          0.90886914, 0.37587482, 0.91657644],\n",
       "         [0.27290056, 0.22790882, 0.2821426 , 0.7068483 , 0.09361101,\n",
       "          0.49438822, 0.43551997, 0.0743243 ],\n",
       "         [0.05895937, 0.8006692 , 0.88155981, 0.45264627, 0.00566064,\n",
       "          0.23604923, 0.87381814, 0.088629  ],\n",
       "         [0.48871209, 0.24804682, 0.5812414 , 0.77034648, 0.76428354,\n",
       "          0.71667096, 0.03147324, 0.48878555],\n",
       "         [0.46254892, 0.90888009, 0.39935378, 0.98753151, 0.28322137,\n",
       "          0.08232319, 0.74563624, 0.22549059]],\n",
       "\n",
       "        [[0.89675595, 0.93769889, 0.22462145, 0.91037932, 0.395743  ,\n",
       "          0.49425271, 0.89731197, 0.10617847],\n",
       "         [0.7623    , 0.72926037, 0.42466335, 0.77154633, 0.25460825,\n",
       "          0.51237597, 0.47594342, 0.45498177],\n",
       "         [0.64927109, 0.21865227, 0.61582155, 0.64794444, 0.65575613,\n",
       "          0.84623229, 0.22773143, 0.11749598],\n",
       "         [0.9666145 , 0.88118378, 0.71372373, 0.16273959, 0.27005151,\n",
       "          0.33476668, 0.19452537, 0.25374598],\n",
       "         [0.51708084, 0.24132378, 0.2519161 , 0.03815706, 0.53641045,\n",
       "          0.53426089, 0.36357764, 0.84596036]],\n",
       "\n",
       "        [[0.35727629, 0.14395911, 0.87506066, 0.92108605, 0.13189688,\n",
       "          0.24211496, 0.01997388, 0.59076487],\n",
       "         [0.92387832, 0.53936032, 0.73808843, 0.62621795, 0.71934726,\n",
       "          0.48023114, 0.64385018, 0.45766162],\n",
       "         [0.1630192 , 0.42088255, 0.85371269, 0.0820213 , 0.10778802,\n",
       "          0.96940462, 0.28618514, 0.41232045],\n",
       "         [0.08750843, 0.90867942, 0.04699112, 0.80575075, 0.89448116,\n",
       "          0.22980091, 0.24515358, 0.39397732],\n",
       "         [0.20737476, 0.6838976 , 0.40384908, 0.90317067, 0.29187524,\n",
       "          0.53627233, 0.10662378, 0.49782143]]],\n",
       "\n",
       "\n",
       "       [[[0.96250131, 0.01172446, 0.51811923, 0.04395939, 0.56923362,\n",
       "          0.11951904, 0.23846348, 0.64152726],\n",
       "         [0.98582643, 0.53061419, 0.82049839, 0.65521283, 0.6854264 ,\n",
       "          0.64647671, 0.4738027 , 0.74668128],\n",
       "         [0.99015213, 0.80935316, 0.37652442, 0.420079  , 0.74228322,\n",
       "          0.70104979, 0.78532703, 0.61838666],\n",
       "         [0.08297719, 0.27573769, 0.82347879, 0.79551956, 0.85917257,\n",
       "          0.69035475, 0.84880498, 0.65383993],\n",
       "         [0.53119691, 0.99955655, 0.09548504, 0.94416931, 0.22681119,\n",
       "          0.73822525, 0.89523226, 0.4099444 ]],\n",
       "\n",
       "        [[0.75964052, 0.52293155, 0.39907803, 0.22573035, 0.95342776,\n",
       "          0.55749985, 0.87351387, 0.09665636],\n",
       "         [0.57918984, 0.88407122, 0.31517305, 0.148253  , 0.89144672,\n",
       "          0.71498099, 0.40538479, 0.45861441],\n",
       "         [0.47107917, 0.90753636, 0.93315887, 0.72873873, 0.33595094,\n",
       "          0.58814248, 0.55659718, 0.12206898],\n",
       "         [0.96912633, 0.6327645 , 0.42269498, 0.40595662, 0.7621685 ,\n",
       "          0.78997644, 0.22254889, 0.32548149],\n",
       "         [0.53476019, 0.54655688, 0.01082546, 0.82969433, 0.0229453 ,\n",
       "          0.66276601, 0.84954126, 0.83151651]],\n",
       "\n",
       "        [[0.08286815, 0.40697864, 0.05241118, 0.7769374 , 0.3821187 ,\n",
       "          0.90921357, 0.09507606, 0.41690574],\n",
       "         [0.87084144, 0.72706271, 0.69100077, 0.96723767, 0.2066479 ,\n",
       "          0.12922674, 0.2052432 , 0.77819806],\n",
       "         [0.03751026, 0.04353468, 0.05615172, 0.5364727 , 0.78254303,\n",
       "          0.91985627, 0.19965957, 0.14167629],\n",
       "         [0.31762897, 0.5985127 , 0.58928107, 0.53868549, 0.91364838,\n",
       "          0.77797641, 0.77456107, 0.32049095],\n",
       "         [0.07958622, 0.73959966, 0.64694614, 0.92919523, 0.03321863,\n",
       "          0.71754061, 0.99307189, 0.00548014]]],\n",
       "\n",
       "\n",
       "       [[[0.39000349, 0.32049584, 0.72883916, 0.31486965, 0.93581314,\n",
       "          0.90935213, 0.59926447, 0.96194857],\n",
       "         [0.23354412, 0.97687746, 0.36284466, 0.70561729, 0.66854436,\n",
       "          0.37136534, 0.22663876, 0.91707549],\n",
       "         [0.77748055, 0.48340736, 0.54242047, 0.96059157, 0.67824854,\n",
       "          0.75005788, 0.74333341, 0.33314254],\n",
       "         [0.20687478, 0.40227485, 0.94451714, 0.32600447, 0.80187136,\n",
       "          0.02194437, 0.73990988, 0.48942508],\n",
       "         [0.30215692, 0.67806529, 0.81563723, 0.48381582, 0.19641689,\n",
       "          0.34315202, 0.69665033, 0.34362764]],\n",
       "\n",
       "        [[0.64296575, 0.44112763, 0.50175738, 0.52402177, 0.06793738,\n",
       "          0.583997  , 0.16351535, 0.90151155],\n",
       "         [0.59993821, 0.01490848, 0.31637879, 0.49411842, 0.9994146 ,\n",
       "          0.20847848, 0.23074448, 0.09177384],\n",
       "         [0.76021856, 0.52502402, 0.4153836 , 0.89893862, 0.14082333,\n",
       "          0.81277203, 0.54724823, 0.91943667],\n",
       "         [0.10570274, 0.3562908 , 0.37205806, 0.54635183, 0.38802977,\n",
       "          0.20063481, 0.98247015, 0.9693998 ],\n",
       "         [0.65899082, 0.60299687, 0.67124217, 0.29201323, 0.31333993,\n",
       "          0.42136382, 0.61211776, 0.49871824]],\n",
       "\n",
       "        [[0.65703201, 0.39047556, 0.60367937, 0.63829467, 0.45152503,\n",
       "          0.57707536, 0.20382421, 0.9372749 ],\n",
       "         [0.00893692, 0.26077021, 0.8321429 , 0.70240082, 0.23175375,\n",
       "          0.62155284, 0.10318466, 0.99822275],\n",
       "         [0.78506257, 0.17929051, 0.39474583, 0.44914654, 0.95928444,\n",
       "          0.80239299, 0.934228  , 0.20704955],\n",
       "         [0.36740624, 0.05372694, 0.41956681, 0.08544757, 0.15180968,\n",
       "          0.40411689, 0.01895745, 0.21261148],\n",
       "         [0.22911528, 0.09936808, 0.92451362, 0.87302931, 0.92705089,\n",
       "          0.71968603, 0.37339269, 0.03257178]]],\n",
       "\n",
       "\n",
       "       [[[0.07293009, 0.32704214, 0.25570018, 0.43019646, 0.73284099,\n",
       "          0.07523334, 0.1529982 , 0.37680469],\n",
       "         [0.13887566, 0.36206433, 0.54699925, 0.55953237, 0.3792913 ,\n",
       "          0.59751088, 0.82907952, 0.24180741],\n",
       "         [0.26572651, 0.15814451, 0.08298446, 0.80827114, 0.43839115,\n",
       "          0.39404881, 0.33693971, 0.38249131],\n",
       "         [0.91528158, 0.62884179, 0.83945104, 0.29391948, 0.02164646,\n",
       "          0.39605886, 0.94400411, 0.35599955],\n",
       "         [0.93445227, 0.50086952, 0.03502322, 0.3947898 , 0.22502364,\n",
       "          0.19052257, 0.92899799, 0.63229084]],\n",
       "\n",
       "        [[0.59604387, 0.97354581, 0.44888953, 0.82711929, 0.07906321,\n",
       "          0.73919629, 0.05690492, 0.15400889],\n",
       "         [0.37181768, 0.05081816, 0.08795793, 0.34170209, 0.18765841,\n",
       "          0.5017745 , 0.06553532, 0.67192194],\n",
       "         [0.84777225, 0.2550412 , 0.59695103, 0.55105095, 0.22501323,\n",
       "          0.25290058, 0.95478301, 0.80569804],\n",
       "         [0.1555603 , 0.7015302 , 0.49287973, 0.87477488, 0.26911876,\n",
       "          0.83162988, 0.79892556, 0.12355876],\n",
       "         [0.52922763, 0.99180777, 0.6152231 , 0.4107451 , 0.4692065 ,\n",
       "          0.63692088, 0.68557947, 0.73770361]],\n",
       "\n",
       "        [[0.11102753, 0.25215179, 0.91641763, 0.18303909, 0.73824936,\n",
       "          0.95204898, 0.71141788, 0.13167937],\n",
       "         [0.96643032, 0.17180707, 0.56411458, 0.39833402, 0.01428471,\n",
       "          0.24231262, 0.66327238, 0.1863422 ],\n",
       "         [0.99847532, 0.08917965, 0.04701422, 0.14776046, 0.16385025,\n",
       "          0.01233241, 0.63157212, 0.07918242],\n",
       "         [0.56288029, 0.05326581, 0.25291997, 0.28085189, 0.00343606,\n",
       "          0.42805109, 0.63732222, 0.9142091 ],\n",
       "         [0.2082396 , 0.74772478, 0.56772219, 0.80095456, 0.59050689,\n",
       "          0.63438446, 0.43857428, 0.72706042]]]])"
      ]
     },
     "execution_count": 6,
     "metadata": {},
     "output_type": "execute_result"
    }
   ],
   "source": [
    "abhinav"
   ]
  },
  {
   "cell_type": "code",
   "execution_count": null,
   "id": "broke-basin",
   "metadata": {},
   "outputs": [],
   "source": []
  },
  {
   "cell_type": "markdown",
   "id": "excessive-dispute",
   "metadata": {},
   "source": [
    "## ***Operators using Numpy, Mathematically Operations and all***"
   ]
  },
  {
   "cell_type": "code",
   "execution_count": null,
   "id": "64f05a16",
   "metadata": {},
   "outputs": [],
   "source": []
  }
 ],
 "metadata": {
  "kernelspec": {
   "display_name": "Python 3 (ipykernel)",
   "language": "python",
   "name": "python3"
  },
  "language_info": {
   "codemirror_mode": {
    "name": "ipython",
    "version": 3
   },
   "file_extension": ".py",
   "mimetype": "text/x-python",
   "name": "python",
   "nbconvert_exporter": "python",
   "pygments_lexer": "ipython3",
   "version": "3.9.6"
  }
 },
 "nbformat": 4,
 "nbformat_minor": 5
}

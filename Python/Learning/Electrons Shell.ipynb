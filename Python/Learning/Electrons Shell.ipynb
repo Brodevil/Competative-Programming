{
 "cells": [
  {
   "cell_type": "markdown",
   "id": "901831e9",
   "metadata": {},
   "source": [
    "# Practise: Self Challenged"
   ]
  },
  {
   "cell_type": "markdown",
   "id": "148e4dff",
   "metadata": {},
   "source": [
    "### Challenge : \n",
    "\n",
    "1. My self challenge is to create a DataFrame of first 20 Elements Electonic Configrature while distributing the electrons in K, L, M, N shell, all shell has several energy level\n",
    "2. In the second part of the challenge try to make this dataframe with just Programming not to write already the data\n",
    "3. The challeng is inspired from the 9th Class Chemistry's Chapter Structures of Atoms NCERT Book\n",
    "4. Run few fuctions().\n",
    "- Pack the data in csv / Exel file\n",
    "- Run statistics methods\n",
    "- Info\n",
    "- Falana Falana"
   ]
  },
  {
   "cell_type": "code",
   "execution_count": 1,
   "id": "32593dc1",
   "metadata": {},
   "outputs": [],
   "source": [
    "import numpy as np\n",
    "import pandas as pd"
   ]
  },
  {
   "cell_type": "code",
   "execution_count": 2,
   "id": "2153b828",
   "metadata": {},
   "outputs": [],
   "source": [
    "elements = np.array(\n",
    "    [\"H\", \"He\", \"Li\", \"Be\", \"B\", \"C\", \"N\", \"O\", \"F\", \"Ne\",\n",
    "    \"Na\", \"Mg\", \"Al\", \"Si\", \"P\", \"S\", \"Cl\", \"Ar\", \"K\", \"Ca\"],\n",
    "    dtype=np.str_\n",
    ")"
   ]
  },
  {
   "cell_type": "code",
   "execution_count": 3,
   "id": "7a328c9e",
   "metadata": {},
   "outputs": [],
   "source": [
    "df = pd.DataFrame(index=elements, columns=[f\"{_} Shell\" for _ in \"KLMN\"], dtype=np.int32)\n",
    "shell_capacity = [2*_**2 for _ in range(1, 7)]"
   ]
  },
  {
   "cell_type": "code",
   "execution_count": 4,
   "id": "ae5d2a79",
   "metadata": {},
   "outputs": [],
   "source": [
    "for electons in range(1, 21):\n",
    "    atomic_no = electons\n",
    "    row = []\n",
    "    for shell in shell_capacity:\n",
    "        if electons == 0:\n",
    "            break\n",
    "        if electons >= shell:\n",
    "            row.append(shell)\n",
    "            electons -= shell\n",
    "        elif electons < shell and electons >= 8:\n",
    "            electons -= 8\n",
    "            row.append(8)\n",
    "        elif electons < shell and electons < 8:\n",
    "            row.append(electons)\n",
    "            electons -= electons\n",
    "            \n",
    "    perfect_row = np.zeros(4, dtype=np.int32)\n",
    "    rows_lenght = len(row)\n",
    "    for _ in range(4):\n",
    "        if _ <= rows_lenght-1:\n",
    "            perfect_row[_] = row[_]\n",
    "        \n",
    "    df.iloc[atomic_no-1] = perfect_row"
   ]
  },
  {
   "cell_type": "code",
   "execution_count": 5,
   "id": "59c4df76",
   "metadata": {},
   "outputs": [
    {
     "data": {
      "text/html": [
       "<div>\n",
       "<style scoped>\n",
       "    .dataframe tbody tr th:only-of-type {\n",
       "        vertical-align: middle;\n",
       "    }\n",
       "\n",
       "    .dataframe tbody tr th {\n",
       "        vertical-align: top;\n",
       "    }\n",
       "\n",
       "    .dataframe thead th {\n",
       "        text-align: right;\n",
       "    }\n",
       "</style>\n",
       "<table border=\"1\" class=\"dataframe\">\n",
       "  <thead>\n",
       "    <tr style=\"text-align: right;\">\n",
       "      <th></th>\n",
       "      <th>K Shell</th>\n",
       "      <th>L Shell</th>\n",
       "      <th>M Shell</th>\n",
       "      <th>N Shell</th>\n",
       "    </tr>\n",
       "  </thead>\n",
       "  <tbody>\n",
       "    <tr>\n",
       "      <th>H</th>\n",
       "      <td>1.0</td>\n",
       "      <td>0.0</td>\n",
       "      <td>0.0</td>\n",
       "      <td>0.0</td>\n",
       "    </tr>\n",
       "    <tr>\n",
       "      <th>He</th>\n",
       "      <td>2.0</td>\n",
       "      <td>0.0</td>\n",
       "      <td>0.0</td>\n",
       "      <td>0.0</td>\n",
       "    </tr>\n",
       "    <tr>\n",
       "      <th>Li</th>\n",
       "      <td>2.0</td>\n",
       "      <td>1.0</td>\n",
       "      <td>0.0</td>\n",
       "      <td>0.0</td>\n",
       "    </tr>\n",
       "    <tr>\n",
       "      <th>Be</th>\n",
       "      <td>2.0</td>\n",
       "      <td>2.0</td>\n",
       "      <td>0.0</td>\n",
       "      <td>0.0</td>\n",
       "    </tr>\n",
       "    <tr>\n",
       "      <th>B</th>\n",
       "      <td>2.0</td>\n",
       "      <td>3.0</td>\n",
       "      <td>0.0</td>\n",
       "      <td>0.0</td>\n",
       "    </tr>\n",
       "    <tr>\n",
       "      <th>C</th>\n",
       "      <td>2.0</td>\n",
       "      <td>4.0</td>\n",
       "      <td>0.0</td>\n",
       "      <td>0.0</td>\n",
       "    </tr>\n",
       "    <tr>\n",
       "      <th>N</th>\n",
       "      <td>2.0</td>\n",
       "      <td>5.0</td>\n",
       "      <td>0.0</td>\n",
       "      <td>0.0</td>\n",
       "    </tr>\n",
       "    <tr>\n",
       "      <th>O</th>\n",
       "      <td>2.0</td>\n",
       "      <td>6.0</td>\n",
       "      <td>0.0</td>\n",
       "      <td>0.0</td>\n",
       "    </tr>\n",
       "    <tr>\n",
       "      <th>F</th>\n",
       "      <td>2.0</td>\n",
       "      <td>7.0</td>\n",
       "      <td>0.0</td>\n",
       "      <td>0.0</td>\n",
       "    </tr>\n",
       "    <tr>\n",
       "      <th>Ne</th>\n",
       "      <td>2.0</td>\n",
       "      <td>8.0</td>\n",
       "      <td>0.0</td>\n",
       "      <td>0.0</td>\n",
       "    </tr>\n",
       "    <tr>\n",
       "      <th>Na</th>\n",
       "      <td>2.0</td>\n",
       "      <td>8.0</td>\n",
       "      <td>1.0</td>\n",
       "      <td>0.0</td>\n",
       "    </tr>\n",
       "    <tr>\n",
       "      <th>Mg</th>\n",
       "      <td>2.0</td>\n",
       "      <td>8.0</td>\n",
       "      <td>2.0</td>\n",
       "      <td>0.0</td>\n",
       "    </tr>\n",
       "    <tr>\n",
       "      <th>Al</th>\n",
       "      <td>2.0</td>\n",
       "      <td>8.0</td>\n",
       "      <td>3.0</td>\n",
       "      <td>0.0</td>\n",
       "    </tr>\n",
       "    <tr>\n",
       "      <th>Si</th>\n",
       "      <td>2.0</td>\n",
       "      <td>8.0</td>\n",
       "      <td>4.0</td>\n",
       "      <td>0.0</td>\n",
       "    </tr>\n",
       "    <tr>\n",
       "      <th>P</th>\n",
       "      <td>2.0</td>\n",
       "      <td>8.0</td>\n",
       "      <td>5.0</td>\n",
       "      <td>0.0</td>\n",
       "    </tr>\n",
       "    <tr>\n",
       "      <th>S</th>\n",
       "      <td>2.0</td>\n",
       "      <td>8.0</td>\n",
       "      <td>6.0</td>\n",
       "      <td>0.0</td>\n",
       "    </tr>\n",
       "    <tr>\n",
       "      <th>Cl</th>\n",
       "      <td>2.0</td>\n",
       "      <td>8.0</td>\n",
       "      <td>7.0</td>\n",
       "      <td>0.0</td>\n",
       "    </tr>\n",
       "    <tr>\n",
       "      <th>Ar</th>\n",
       "      <td>2.0</td>\n",
       "      <td>8.0</td>\n",
       "      <td>8.0</td>\n",
       "      <td>0.0</td>\n",
       "    </tr>\n",
       "    <tr>\n",
       "      <th>K</th>\n",
       "      <td>2.0</td>\n",
       "      <td>8.0</td>\n",
       "      <td>8.0</td>\n",
       "      <td>1.0</td>\n",
       "    </tr>\n",
       "    <tr>\n",
       "      <th>Ca</th>\n",
       "      <td>2.0</td>\n",
       "      <td>8.0</td>\n",
       "      <td>8.0</td>\n",
       "      <td>2.0</td>\n",
       "    </tr>\n",
       "  </tbody>\n",
       "</table>\n",
       "</div>"
      ],
      "text/plain": [
       "    K Shell  L Shell  M Shell  N Shell\n",
       "H       1.0      0.0      0.0      0.0\n",
       "He      2.0      0.0      0.0      0.0\n",
       "Li      2.0      1.0      0.0      0.0\n",
       "Be      2.0      2.0      0.0      0.0\n",
       "B       2.0      3.0      0.0      0.0\n",
       "C       2.0      4.0      0.0      0.0\n",
       "N       2.0      5.0      0.0      0.0\n",
       "O       2.0      6.0      0.0      0.0\n",
       "F       2.0      7.0      0.0      0.0\n",
       "Ne      2.0      8.0      0.0      0.0\n",
       "Na      2.0      8.0      1.0      0.0\n",
       "Mg      2.0      8.0      2.0      0.0\n",
       "Al      2.0      8.0      3.0      0.0\n",
       "Si      2.0      8.0      4.0      0.0\n",
       "P       2.0      8.0      5.0      0.0\n",
       "S       2.0      8.0      6.0      0.0\n",
       "Cl      2.0      8.0      7.0      0.0\n",
       "Ar      2.0      8.0      8.0      0.0\n",
       "K       2.0      8.0      8.0      1.0\n",
       "Ca      2.0      8.0      8.0      2.0"
      ]
     },
     "execution_count": 5,
     "metadata": {},
     "output_type": "execute_result"
    }
   ],
   "source": [
    "df"
   ]
  },
  {
   "cell_type": "code",
   "execution_count": 6,
   "id": "2fce5317",
   "metadata": {},
   "outputs": [],
   "source": [
    "df.to_csv(\"Electronic_Configuration.csv\")"
   ]
  },
  {
   "cell_type": "code",
   "execution_count": 7,
   "id": "cdf85fc4",
   "metadata": {},
   "outputs": [
    {
     "data": {
      "text/plain": [
       "K Shell    1.95\n",
       "L Shell    5.80\n",
       "M Shell    2.60\n",
       "N Shell    0.15\n",
       "dtype: float64"
      ]
     },
     "execution_count": 7,
     "metadata": {},
     "output_type": "execute_result"
    }
   ],
   "source": [
    "df.mean()"
   ]
  },
  {
   "cell_type": "code",
   "execution_count": 8,
   "id": "1f1fe31c",
   "metadata": {},
   "outputs": [
    {
     "data": {
      "text/html": [
       "<div>\n",
       "<style scoped>\n",
       "    .dataframe tbody tr th:only-of-type {\n",
       "        vertical-align: middle;\n",
       "    }\n",
       "\n",
       "    .dataframe tbody tr th {\n",
       "        vertical-align: top;\n",
       "    }\n",
       "\n",
       "    .dataframe thead th {\n",
       "        text-align: right;\n",
       "    }\n",
       "</style>\n",
       "<table border=\"1\" class=\"dataframe\">\n",
       "  <thead>\n",
       "    <tr style=\"text-align: right;\">\n",
       "      <th></th>\n",
       "      <th>K Shell</th>\n",
       "      <th>L Shell</th>\n",
       "      <th>M Shell</th>\n",
       "      <th>N Shell</th>\n",
       "    </tr>\n",
       "  </thead>\n",
       "  <tbody>\n",
       "    <tr>\n",
       "      <th>0</th>\n",
       "      <td>2.0</td>\n",
       "      <td>8.0</td>\n",
       "      <td>0.0</td>\n",
       "      <td>0.0</td>\n",
       "    </tr>\n",
       "  </tbody>\n",
       "</table>\n",
       "</div>"
      ],
      "text/plain": [
       "   K Shell  L Shell  M Shell  N Shell\n",
       "0      2.0      8.0      0.0      0.0"
      ]
     },
     "execution_count": 8,
     "metadata": {},
     "output_type": "execute_result"
    }
   ],
   "source": [
    "df.mode()"
   ]
  },
  {
   "cell_type": "code",
   "execution_count": 9,
   "id": "48558a8c",
   "metadata": {},
   "outputs": [
    {
     "data": {
      "text/plain": [
       "K Shell    2.0\n",
       "L Shell    8.0\n",
       "M Shell    0.5\n",
       "N Shell    0.0\n",
       "dtype: float64"
      ]
     },
     "execution_count": 9,
     "metadata": {},
     "output_type": "execute_result"
    }
   ],
   "source": [
    "df.median()"
   ]
  },
  {
   "cell_type": "code",
   "execution_count": 10,
   "id": "6bbd64d0",
   "metadata": {},
   "outputs": [
    {
     "name": "stdout",
     "output_type": "stream",
     "text": [
      "<class 'pandas.core.frame.DataFrame'>\n",
      "Index: 20 entries, H to Ca\n",
      "Data columns (total 4 columns):\n",
      " #   Column   Non-Null Count  Dtype  \n",
      "---  ------   --------------  -----  \n",
      " 0   K Shell  20 non-null     float64\n",
      " 1   L Shell  20 non-null     float64\n",
      " 2   M Shell  20 non-null     float64\n",
      " 3   N Shell  20 non-null     float64\n",
      "dtypes: float64(4)\n",
      "memory usage: 800.0+ bytes\n"
     ]
    }
   ],
   "source": [
    "df.info()"
   ]
  },
  {
   "cell_type": "code",
   "execution_count": null,
   "id": "599aae4f",
   "metadata": {},
   "outputs": [],
   "source": []
  }
 ],
 "metadata": {
  "kernelspec": {
   "display_name": "Python 3 (ipykernel)",
   "language": "python",
   "name": "python3"
  },
  "language_info": {
   "codemirror_mode": {
    "name": "ipython",
    "version": 3
   },
   "file_extension": ".py",
   "mimetype": "text/x-python",
   "name": "python",
   "nbconvert_exporter": "python",
   "pygments_lexer": "ipython3",
   "version": "3.9.6"
  }
 },
 "nbformat": 4,
 "nbformat_minor": 5
}

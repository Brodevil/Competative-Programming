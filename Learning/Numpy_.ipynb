{
 "cells": [
  {
   "cell_type": "code",
   "execution_count": 1,
   "id": "unauthorized-patent",
   "metadata": {},
   "outputs": [],
   "source": [
    "import numpy as np"
   ]
  },
  {
   "cell_type": "code",
   "execution_count": 2,
   "id": "deluxe-daniel",
   "metadata": {},
   "outputs": [],
   "source": [
    "numpy_arr = np.array([1, 2, 0, 9, 6, 7], np.int32)"
   ]
  },
  {
   "cell_type": "code",
   "execution_count": 3,
   "id": "ready-speaker",
   "metadata": {},
   "outputs": [],
   "source": [
    "arr = np.array([[1, 3, 56], [3, 5, 0], [3, 54, 56], [0, 890, 234908]], np.int64)"
   ]
  },
  {
   "cell_type": "code",
   "execution_count": 4,
   "id": "amino-narrow",
   "metadata": {},
   "outputs": [
    {
     "name": "stdout",
     "output_type": "stream",
     "text": [
      "[[     1      3     56]\n",
      " [     3      5      0]\n",
      " [     3     54     56]\n",
      " [     0    890 234908]]\n",
      "0\n",
      "(4, 3)\n",
      "int64\n"
     ]
    }
   ],
   "source": [
    "print(arr)\n",
    "print(arr[3, 0])     # acessing elements like this bro\n",
    "print(arr.shape)      # this show the number of row i.e. 4 and 3 are the column\n",
    "print(arr.dtype)"
   ]
  },
  {
   "cell_type": "code",
   "execution_count": null,
   "id": "sustained-sacramento",
   "metadata": {},
   "outputs": [],
   "source": []
  },
  {
   "cell_type": "code",
   "execution_count": 5,
   "id": "spectacular-teaching",
   "metadata": {},
   "outputs": [],
   "source": [
    "arrays = np.array([1, 2, 4, 5], np.int8)"
   ]
  },
  {
   "cell_type": "code",
   "execution_count": 6,
   "id": "consecutive-trinidad",
   "metadata": {},
   "outputs": [
    {
     "name": "stdout",
     "output_type": "stream",
     "text": [
      "9\n",
      "[1 2 4 5]\n",
      "(6,)\n",
      "(4,)\n",
      "int8\n"
     ]
    }
   ],
   "source": [
    "print(numpy_arr[3])\n",
    "\n",
    "print(arrays)\n",
    "print(numpy_arr.shape)\n",
    "print(arrays.shape)\n",
    "print(arrays.dtype)              # giving us the data type"
   ]
  },
  {
   "cell_type": "code",
   "execution_count": 7,
   "id": "found-expert",
   "metadata": {},
   "outputs": [],
   "source": [
    "bro_arr = np.array([[\"abhinav\", \"kumar\", \"Choudhary\"], [\"to\", \"kese\", \"Hai\", \"aap\", \"log\"]], dtype=object)"
   ]
  },
  {
   "cell_type": "code",
   "execution_count": 8,
   "id": "tired-crossing",
   "metadata": {},
   "outputs": [
    {
     "name": "stdout",
     "output_type": "stream",
     "text": [
      "(2,)\n",
      "object\n"
     ]
    }
   ],
   "source": [
    "print(bro_arr.shape)\n",
    "print(bro_arr.dtype)\n"
   ]
  },
  {
   "cell_type": "code",
   "execution_count": 9,
   "id": "induced-topic",
   "metadata": {
    "scrolled": true
   },
   "outputs": [
    {
     "name": "stdout",
     "output_type": "stream",
     "text": [
      "[['abhinav', 'kumar', 'Choudhary'], ['to', 'kese', 'Hai', 'aap', 'log']]\n",
      "<class 'list'>\n",
      "to\n"
     ]
    }
   ],
   "source": [
    "bro_arr = list(bro_arr)\n",
    "print(bro_arr)\n",
    "print(type(bro_arr))\n",
    "print(bro_arr[1][0])    # here we have to act as simple as list are"
   ]
  },
  {
   "cell_type": "code",
   "execution_count": 10,
   "id": "arctic-shakespeare",
   "metadata": {},
   "outputs": [
    {
     "name": "stdout",
     "output_type": "stream",
     "text": [
      "[1 2 4 5]\n",
      "[[     1      3     56]\n",
      " [     3      5      0]\n",
      " [     3     54     56]\n",
      " [     0    890 234908]]\n"
     ]
    }
   ],
   "source": [
    "print(arrays)\n",
    "print(arr)"
   ]
  },
  {
   "cell_type": "code",
   "execution_count": 11,
   "id": "multiple-patio",
   "metadata": {},
   "outputs": [],
   "source": [
    "arrays[0] = 9\n",
    "arr[1, 2] = 90"
   ]
  },
  {
   "cell_type": "code",
   "execution_count": 12,
   "id": "optimum-newton",
   "metadata": {},
   "outputs": [
    {
     "name": "stdout",
     "output_type": "stream",
     "text": [
      "[9 2 4 5]\n",
      "[[     1      3     56]\n",
      " [     3      5     90]\n",
      " [     3     54     56]\n",
      " [     0    890 234908]]\n"
     ]
    }
   ],
   "source": [
    "print(arrays)\n",
    "print(arr)"
   ]
  },
  {
   "cell_type": "code",
   "execution_count": null,
   "id": "educational-behalf",
   "metadata": {},
   "outputs": [],
   "source": [
    "\n"
   ]
  },
  {
   "cell_type": "markdown",
   "id": "provincial-alias",
   "metadata": {},
   "source": [
    "### Array Creation : Conversion from other Python structures (e.g., lists, tuples)"
   ]
  },
  {
   "cell_type": "code",
   "execution_count": 13,
   "id": "regulated-korean",
   "metadata": {},
   "outputs": [],
   "source": [
    "listarray = np.array([[9, 3, 0], [2, 97, -82], [-82, -90, 102], [1, 90, 34]])"
   ]
  },
  {
   "cell_type": "code",
   "execution_count": 14,
   "id": "suspected-central",
   "metadata": {},
   "outputs": [
    {
     "name": "stdout",
     "output_type": "stream",
     "text": [
      "[[  9   3   0]\n",
      " [  2  97 -82]\n",
      " [-82 -90 102]\n",
      " [  1  90  34]]\n",
      "12\n",
      "(4, 3)\n",
      "int32\n"
     ]
    }
   ],
   "source": [
    "print(listarray)\n",
    "print(listarray.size)\n",
    "print(listarray.shape)\n",
    "print(listarray.dtype)"
   ]
  },
  {
   "cell_type": "code",
   "execution_count": 15,
   "id": "preliminary-government",
   "metadata": {},
   "outputs": [],
   "source": [
    "tuplearray = np.array(((2, 0), (-9, 32), (324, -324)))"
   ]
  },
  {
   "cell_type": "code",
   "execution_count": 16,
   "id": "bizarre-cleaner",
   "metadata": {},
   "outputs": [
    {
     "name": "stdout",
     "output_type": "stream",
     "text": [
      "[[   2    0]\n",
      " [  -9   32]\n",
      " [ 324 -324]]\n",
      "(3, 2)\n",
      "int32\n",
      "6\n"
     ]
    }
   ],
   "source": [
    "print(tuplearray)\n",
    "print(tuplearray.shape)\n",
    "print(tuplearray.dtype)\n",
    "print(tuplearray.size)"
   ]
  },
  {
   "cell_type": "code",
   "execution_count": null,
   "id": "extraordinary-payroll",
   "metadata": {},
   "outputs": [],
   "source": []
  },
  {
   "cell_type": "markdown",
   "id": "hawaiian-success",
   "metadata": {},
   "source": [
    "### Array Creation : Intrinsic numpy array creation objects (e.g., arange, ones, zeros, etc.)"
   ]
  },
  {
   "cell_type": "code",
   "execution_count": 17,
   "id": "established-season",
   "metadata": {},
   "outputs": [],
   "source": [
    "# zeros function in numpy\n",
    "\n",
    "zeros = np.zeros((3, 5))     # this will create a array of zeros with 3 rows and 5 column, indirectly this is shape"
   ]
  },
  {
   "cell_type": "code",
   "execution_count": 18,
   "id": "advance-ivory",
   "metadata": {},
   "outputs": [
    {
     "name": "stdout",
     "output_type": "stream",
     "text": [
      "[[0. 0. 0. 0. 0.]\n",
      " [0. 0. 0. 0. 0.]\n",
      " [0. 0. 0. 0. 0.]]\n",
      "(3, 5)\n",
      "float64\n",
      "15\n"
     ]
    }
   ],
   "source": [
    "print(zeros)\n",
    "print(zeros.shape)\n",
    "print(zeros.dtype)\n",
    "print(zeros.size)"
   ]
  },
  {
   "cell_type": "code",
   "execution_count": null,
   "id": "everyday-found",
   "metadata": {},
   "outputs": [],
   "source": []
  },
  {
   "cell_type": "code",
   "execution_count": 19,
   "id": "least-corps",
   "metadata": {},
   "outputs": [],
   "source": [
    "# arange function in numpy\n",
    "\n",
    "rng = np.arange(100, 10, -10)     # this is also same as range() in python return the array"
   ]
  },
  {
   "cell_type": "code",
   "execution_count": 20,
   "id": "african-vietnamese",
   "metadata": {},
   "outputs": [
    {
     "name": "stdout",
     "output_type": "stream",
     "text": [
      "[100  90  80  70  60  50  40  30  20]\n",
      "(9,)\n",
      "int32\n",
      "9\n"
     ]
    }
   ],
   "source": [
    "print(rng)\n",
    "print(rng.shape)\n",
    "print(rng.dtype)\n",
    "print(rng.size)"
   ]
  },
  {
   "cell_type": "code",
   "execution_count": null,
   "id": "educated-associate",
   "metadata": {},
   "outputs": [],
   "source": []
  },
  {
   "cell_type": "code",
   "execution_count": 21,
   "id": "demanding-death",
   "metadata": {},
   "outputs": [],
   "source": [
    "# linspace function in numpy\n",
    "\n",
    "linspace = np.linspace(100, 1000, 50)     # this will return a array of equal 50 space between 100 to 1000"
   ]
  },
  {
   "cell_type": "code",
   "execution_count": 22,
   "id": "employed-despite",
   "metadata": {
    "scrolled": true
   },
   "outputs": [
    {
     "name": "stdout",
     "output_type": "stream",
     "text": [
      "[ 100.          118.36734694  136.73469388  155.10204082  173.46938776\n",
      "  191.83673469  210.20408163  228.57142857  246.93877551  265.30612245\n",
      "  283.67346939  302.04081633  320.40816327  338.7755102   357.14285714\n",
      "  375.51020408  393.87755102  412.24489796  430.6122449   448.97959184\n",
      "  467.34693878  485.71428571  504.08163265  522.44897959  540.81632653\n",
      "  559.18367347  577.55102041  595.91836735  614.28571429  632.65306122\n",
      "  651.02040816  669.3877551   687.75510204  706.12244898  724.48979592\n",
      "  742.85714286  761.2244898   779.59183673  797.95918367  816.32653061\n",
      "  834.69387755  853.06122449  871.42857143  889.79591837  908.16326531\n",
      "  926.53061224  944.89795918  963.26530612  981.63265306 1000.        ]\n",
      "(50,)\n",
      "float64\n",
      "50\n"
     ]
    }
   ],
   "source": [
    "print(linspace)\n",
    "print(linspace.shape)\n",
    "print(linspace.dtype)\n",
    "print(linspace.size)\n"
   ]
  },
  {
   "cell_type": "code",
   "execution_count": null,
   "id": "nutritional-crash",
   "metadata": {},
   "outputs": [],
   "source": []
  },
  {
   "cell_type": "code",
   "execution_count": 23,
   "id": "engaged-moldova",
   "metadata": {},
   "outputs": [],
   "source": [
    "# Empty function in python\n",
    "\n",
    "empty = np.empty((5, 10))      # this return the the array of sape (5, 10) 5 rows 10 column and in that all the random numbers will there present"
   ]
  },
  {
   "cell_type": "code",
   "execution_count": 24,
   "id": "obvious-nevada",
   "metadata": {},
   "outputs": [
    {
     "name": "stdout",
     "output_type": "stream",
     "text": [
      "[[ 100.          118.36734694  136.73469388  155.10204082  173.46938776\n",
      "   191.83673469  210.20408163  228.57142857  246.93877551  265.30612245]\n",
      " [ 283.67346939  302.04081633  320.40816327  338.7755102   357.14285714\n",
      "   375.51020408  393.87755102  412.24489796  430.6122449   448.97959184]\n",
      " [ 467.34693878  485.71428571  504.08163265  522.44897959  540.81632653\n",
      "   559.18367347  577.55102041  595.91836735  614.28571429  632.65306122]\n",
      " [ 651.02040816  669.3877551   687.75510204  706.12244898  724.48979592\n",
      "   742.85714286  761.2244898   779.59183673  797.95918367  816.32653061]\n",
      " [ 834.69387755  853.06122449  871.42857143  889.79591837  908.16326531\n",
      "   926.53061224  944.89795918  963.26530612  981.63265306 1000.        ]]\n",
      "(5, 10)\n",
      "float64\n",
      "50\n"
     ]
    }
   ],
   "source": [
    "print(empty)\n",
    "print(empty.shape)   # this is also (5, 10)\n",
    "print(empty.dtype)\n",
    "print(empty.size)    # total size of all the elements"
   ]
  },
  {
   "cell_type": "code",
   "execution_count": null,
   "id": "sharing-millennium",
   "metadata": {},
   "outputs": [],
   "source": []
  },
  {
   "cell_type": "code",
   "execution_count": 25,
   "id": "narrative-increase",
   "metadata": {},
   "outputs": [],
   "source": [
    "# empty like function in numpyt\n",
    "\n",
    "empty_like = np.empty_like(linspace)      # this takes any array and make the copy of it, now in this we can change or parsed do any thing which we want\n"
   ]
  },
  {
   "cell_type": "code",
   "execution_count": 26,
   "id": "lyric-iceland",
   "metadata": {},
   "outputs": [
    {
     "name": "stdout",
     "output_type": "stream",
     "text": [
      "[ 100.          118.36734694  136.73469388  155.10204082  173.46938776\n",
      "  191.83673469  210.20408163  228.57142857  246.93877551  265.30612245\n",
      "  283.67346939  302.04081633  320.40816327  338.7755102   357.14285714\n",
      "  375.51020408  393.87755102  412.24489796  430.6122449   448.97959184\n",
      "  467.34693878  485.71428571  504.08163265  522.44897959  540.81632653\n",
      "  559.18367347  577.55102041  595.91836735  614.28571429  632.65306122\n",
      "  651.02040816  669.3877551   687.75510204  706.12244898  724.48979592\n",
      "  742.85714286  761.2244898   779.59183673  797.95918367  816.32653061\n",
      "  834.69387755  853.06122449  871.42857143  889.79591837  908.16326531\n",
      "  926.53061224  944.89795918  963.26530612  981.63265306 1000.        ]\n",
      "(50,)\n",
      "float64\n",
      "50\n"
     ]
    }
   ],
   "source": [
    "print(empty_like)\n",
    "print(empty_like.shape)\n",
    "print(empty_like.dtype)\n",
    "print(empty_like.size)"
   ]
  },
  {
   "cell_type": "code",
   "execution_count": null,
   "id": "structured-rover",
   "metadata": {},
   "outputs": [],
   "source": []
  },
  {
   "cell_type": "code",
   "execution_count": 27,
   "id": "essential-craft",
   "metadata": {},
   "outputs": [],
   "source": [
    "# Identity function in numpy\n",
    "\n",
    "identity = np.identity(50)    # this return the identity metrix array of (50, 50) shape"
   ]
  },
  {
   "cell_type": "code",
   "execution_count": 28,
   "id": "capital-crisis",
   "metadata": {},
   "outputs": [
    {
     "name": "stdout",
     "output_type": "stream",
     "text": [
      "[[1. 0. 0. ... 0. 0. 0.]\n",
      " [0. 1. 0. ... 0. 0. 0.]\n",
      " [0. 0. 1. ... 0. 0. 0.]\n",
      " ...\n",
      " [0. 0. 0. ... 1. 0. 0.]\n",
      " [0. 0. 0. ... 0. 1. 0.]\n",
      " [0. 0. 0. ... 0. 0. 1.]]\n",
      "(50, 50)\n",
      "float64\n",
      "2500\n"
     ]
    }
   ],
   "source": [
    "print(identity)\n",
    "print(identity.shape)\n",
    "print(identity.dtype)\n",
    "print(identity.size)"
   ]
  },
  {
   "cell_type": "code",
   "execution_count": null,
   "id": "indirect-button",
   "metadata": {},
   "outputs": [],
   "source": []
  },
  {
   "cell_type": "code",
   "execution_count": 29,
   "id": "developing-replication",
   "metadata": {},
   "outputs": [
    {
     "name": "stdout",
     "output_type": "stream",
     "text": [
      "[ 0  1  2  3  4  5  6  7  8  9 10 11 12 13 14 15 16 17 18 19 20 21 22 23\n",
      " 24 25 26 27 28 29 30 31 32 33 34 35 36 37 38 39 40 41 42 43 44 45 46 47\n",
      " 48 49 50 51 52 53 54 55 56 57 58 59 60 61 62 63 64 65 66 67 68 69 70 71\n",
      " 72 73 74 75 76 77 78 79 80 81 82 83 84 85 86 87 88 89 90 91 92 93 94 95\n",
      " 96 97 98 99]\n"
     ]
    }
   ],
   "source": [
    "# reshape function in numpy\n",
    "\n",
    "arr = np.arange(100)     # this is one dimentional array okay just for example\n",
    "print(arr)"
   ]
  },
  {
   "cell_type": "code",
   "execution_count": 30,
   "id": "comprehensive-marking",
   "metadata": {},
   "outputs": [],
   "source": [
    "arr = arr.reshape(20, 5)         # now I suppose to return the reshaped of the array as the there shape in argument\n",
    "\n",
    "# note : the element shoud be fit i.e. 20*5 = len(arr) other wise it will through the error\n",
    "# try to put arr.reshape(30, 20)    # this will definatly thorw an error"
   ]
  },
  {
   "cell_type": "code",
   "execution_count": 31,
   "id": "sophisticated-yorkshire",
   "metadata": {},
   "outputs": [
    {
     "name": "stdout",
     "output_type": "stream",
     "text": [
      "[[ 0  1  2  3  4]\n",
      " [ 5  6  7  8  9]\n",
      " [10 11 12 13 14]\n",
      " [15 16 17 18 19]\n",
      " [20 21 22 23 24]\n",
      " [25 26 27 28 29]\n",
      " [30 31 32 33 34]\n",
      " [35 36 37 38 39]\n",
      " [40 41 42 43 44]\n",
      " [45 46 47 48 49]\n",
      " [50 51 52 53 54]\n",
      " [55 56 57 58 59]\n",
      " [60 61 62 63 64]\n",
      " [65 66 67 68 69]\n",
      " [70 71 72 73 74]\n",
      " [75 76 77 78 79]\n",
      " [80 81 82 83 84]\n",
      " [85 86 87 88 89]\n",
      " [90 91 92 93 94]\n",
      " [95 96 97 98 99]]\n",
      "(20, 5)\n"
     ]
    }
   ],
   "source": [
    "print(arr)            # note that even you can reshpae it while creating it\n",
    "print(arr.shape)     # as per the reshape argument\n",
    "\n",
    "# arr = np.arange(100).reshape(20, 5)     # samjh aa raha hai bhai"
   ]
  },
  {
   "cell_type": "code",
   "execution_count": null,
   "id": "mobile-healthcare",
   "metadata": {},
   "outputs": [],
   "source": []
  },
  {
   "cell_type": "code",
   "execution_count": 32,
   "id": "synthetic-wayne",
   "metadata": {},
   "outputs": [],
   "source": [
    "# ravel() fucntion in numpy\n",
    "\n",
    "arr = arr.ravel()     # this return the array in just one dimentional"
   ]
  },
  {
   "cell_type": "code",
   "execution_count": 33,
   "id": "disabled-spoke",
   "metadata": {},
   "outputs": [
    {
     "name": "stdout",
     "output_type": "stream",
     "text": [
      "[ 0  1  2  3  4  5  6  7  8  9 10 11 12 13 14 15 16 17 18 19 20 21 22 23\n",
      " 24 25 26 27 28 29 30 31 32 33 34 35 36 37 38 39 40 41 42 43 44 45 46 47\n",
      " 48 49 50 51 52 53 54 55 56 57 58 59 60 61 62 63 64 65 66 67 68 69 70 71\n",
      " 72 73 74 75 76 77 78 79 80 81 82 83 84 85 86 87 88 89 90 91 92 93 94 95\n",
      " 96 97 98 99]\n",
      "(100,)\n"
     ]
    }
   ],
   "source": [
    "print(arr)\n",
    "print(arr.shape)\n",
    "\n",
    "# arr = np.arane(100).reshape(20, 50).ravel().reshape(20, 5)      # here also the python logic is same bro"
   ]
  },
  {
   "cell_type": "code",
   "execution_count": null,
   "id": "quality-terrace",
   "metadata": {},
   "outputs": [],
   "source": []
  },
  {
   "cell_type": "markdown",
   "id": "alien-register",
   "metadata": {},
   "source": [
    "**Important topic Numpy Axis :**"
   ]
  },
  {
   "cell_type": "code",
   "execution_count": 34,
   "id": "frank-celtic",
   "metadata": {},
   "outputs": [],
   "source": [
    "x = [[11, 22, 33], [44, 55, 66], [77, 88, 99]]"
   ]
  },
  {
   "cell_type": "code",
   "execution_count": 35,
   "id": "adult-selection",
   "metadata": {},
   "outputs": [],
   "source": [
    "ax = np.array(x)"
   ]
  },
  {
   "cell_type": "code",
   "execution_count": 36,
   "id": "solar-revelation",
   "metadata": {},
   "outputs": [
    {
     "name": "stdout",
     "output_type": "stream",
     "text": [
      "[[11 22 33]\n",
      " [44 55 66]\n",
      " [77 88 99]]\n"
     ]
    }
   ],
   "source": [
    "print(ax)"
   ]
  },
  {
   "cell_type": "code",
   "execution_count": 37,
   "id": "headed-blair",
   "metadata": {},
   "outputs": [
    {
     "name": "stdout",
     "output_type": "stream",
     "text": [
      "[132 165 198]\n",
      "[ 66 165 264]\n"
     ]
    }
   ],
   "source": [
    "print(ax.sum(axis=0))      # 0 axis is column\n",
    "print(ax.sum(axis=1))      # 1 axis is row  \n",
    "\n",
    "# return the sum of axis 0 = 11 + 44 + 77 = 132, 22 + 55 + 88 = 165, 33 +66 +99 = 198 \n",
    "# now all the sum are put in the array as per there position \n",
    "# [132, 165, 198]\n"
   ]
  },
  {
   "cell_type": "code",
   "execution_count": null,
   "id": "progressive-fighter",
   "metadata": {},
   "outputs": [],
   "source": []
  },
  {
   "cell_type": "code",
   "execution_count": 38,
   "id": "nuclear-accordance",
   "metadata": {},
   "outputs": [
    {
     "name": "stdout",
     "output_type": "stream",
     "text": [
      "[[11 44 77]\n",
      " [22 55 88]\n",
      " [33 66 99]]\n"
     ]
    }
   ],
   "source": [
    "# .T method is return the Transpose array      i.e. axis 0 to axis 1 and axis 1 to axis 0\n",
    "print(ax.T)     # column to row and row to column"
   ]
  },
  {
   "cell_type": "code",
   "execution_count": null,
   "id": "inside-cancer",
   "metadata": {},
   "outputs": [],
   "source": []
  },
  {
   "cell_type": "code",
   "execution_count": 39,
   "id": "british-tobago",
   "metadata": {},
   "outputs": [
    {
     "name": "stdout",
     "output_type": "stream",
     "text": [
      "11\n",
      "22\n",
      "33\n",
      "44\n",
      "55\n",
      "66\n",
      "77\n",
      "88\n",
      "99\n"
     ]
    }
   ],
   "source": [
    "# .flat method is retuning the iterator which can easily iterate over for loop or by next() function or by __next__() method\n",
    "iterarr = ax.flat\n",
    "\n",
    "print(iterarr.__next__())\n",
    "print(next(iterarr))\n",
    "\n",
    "for iterm in iterarr:\n",
    "    print(iterm)\n"
   ]
  },
  {
   "cell_type": "code",
   "execution_count": 40,
   "id": "reliable-charlotte",
   "metadata": {},
   "outputs": [
    {
     "name": "stdout",
     "output_type": "stream",
     "text": [
      "11 22 33\n",
      "[11 22 33]\n",
      "44 55 66\n",
      "[44 55 66]\n",
      "77 88 99\n",
      "[77 88 99]\n"
     ]
    }
   ],
   "source": [
    "# this will normal for loop\n",
    "\n",
    "for i in ax:\n",
    "    print(*i)\n",
    "    print(i)"
   ]
  },
  {
   "cell_type": "code",
   "execution_count": 41,
   "id": "documentary-reduction",
   "metadata": {},
   "outputs": [
    {
     "name": "stdout",
     "output_type": "stream",
     "text": [
      "2\n"
     ]
    }
   ],
   "source": [
    "print(ax.ndim)"
   ]
  },
  {
   "cell_type": "code",
   "execution_count": 42,
   "id": "concerned-legislation",
   "metadata": {},
   "outputs": [
    {
     "name": "stdout",
     "output_type": "stream",
     "text": [
      "36\n"
     ]
    }
   ],
   "source": [
    "print(ax.nbytes)"
   ]
  },
  {
   "cell_type": "code",
   "execution_count": 43,
   "id": "exterior-trigger",
   "metadata": {},
   "outputs": [
    {
     "name": "stdout",
     "output_type": "stream",
     "text": [
      "9\n"
     ]
    }
   ],
   "source": [
    "print(ax.size)"
   ]
  },
  {
   "cell_type": "code",
   "execution_count": 44,
   "id": "hollow-american",
   "metadata": {},
   "outputs": [
    {
     "name": "stdout",
     "output_type": "stream",
     "text": [
      "(3, 3)\n"
     ]
    }
   ],
   "source": [
    "print(ax.shape)"
   ]
  },
  {
   "cell_type": "code",
   "execution_count": null,
   "id": "alpine-wallace",
   "metadata": {},
   "outputs": [],
   "source": []
  },
  {
   "cell_type": "code",
   "execution_count": 45,
   "id": "ultimate-honor",
   "metadata": {},
   "outputs": [],
   "source": [
    "one = np.array([1, 9, 3, 5, 7, 8, 2, 0])"
   ]
  },
  {
   "cell_type": "code",
   "execution_count": 46,
   "id": "alike-turtle",
   "metadata": {
    "scrolled": true
   },
   "outputs": [
    {
     "name": "stdout",
     "output_type": "stream",
     "text": [
      "1\n",
      "7\n"
     ]
    },
    {
     "data": {
      "text/plain": [
       "array([7, 0, 6, 2, 3, 4, 5, 1], dtype=int64)"
      ]
     },
     "execution_count": 46,
     "metadata": {},
     "output_type": "execute_result"
    }
   ],
   "source": [
    "print(one.argmax())     # argument's maximus : the maximum value's index\n",
    "print(one.argmin())     # minimum argument : the minimum value's index\n",
    "one.argsort()           # sort the value but return the list of index in sorted form just like smallest value is 0 so it will return a list[0]= 7 cause 0 is on 7th index bro\n",
    "\n",
    "# this was on 1d array"
   ]
  },
  {
   "cell_type": "code",
   "execution_count": null,
   "id": "combined-survey",
   "metadata": {},
   "outputs": [],
   "source": []
  },
  {
   "cell_type": "code",
   "execution_count": 47,
   "id": "closing-oliver",
   "metadata": {},
   "outputs": [
    {
     "data": {
      "text/plain": [
       "array([[11, 22, 33],\n",
       "       [44, 55, 66],\n",
       "       [77, 88, 99]])"
      ]
     },
     "execution_count": 47,
     "metadata": {},
     "output_type": "execute_result"
    }
   ],
   "source": [
    "ax"
   ]
  },
  {
   "cell_type": "code",
   "execution_count": 48,
   "id": "generic-argument",
   "metadata": {},
   "outputs": [
    {
     "data": {
      "text/plain": [
       "0"
      ]
     },
     "execution_count": 48,
     "metadata": {},
     "output_type": "execute_result"
    }
   ],
   "source": [
    "ax.argmin()      # first it had converted or assumed as a 1d list and return its index, 11's index is 0 and 11 is smalled number here"
   ]
  },
  {
   "cell_type": "code",
   "execution_count": 49,
   "id": "according-barrel",
   "metadata": {},
   "outputs": [
    {
     "data": {
      "text/plain": [
       "8"
      ]
     },
     "execution_count": 49,
     "metadata": {},
     "output_type": "execute_result"
    }
   ],
   "source": [
    "ax.argmax()     # convert in 1d array then return the index of maximum value which is 99 and its index will be 8"
   ]
  },
  {
   "cell_type": "code",
   "execution_count": 50,
   "id": "fluid-hazard",
   "metadata": {},
   "outputs": [
    {
     "data": {
      "text/plain": [
       "array([2, 2, 2], dtype=int64)"
      ]
     },
     "execution_count": 50,
     "metadata": {},
     "output_type": "execute_result"
    }
   ],
   "source": [
    "ax.argmax(axis=0)    # 0 axis se dekh kr chalo in ax[1] , 2nd index is heighest in ax[2], 2nd index is heighest and in ax[3] 2nd index is hieghest\n",
    "\n"
   ]
  },
  {
   "cell_type": "code",
   "execution_count": 51,
   "id": "visible-understanding",
   "metadata": {},
   "outputs": [
    {
     "data": {
      "text/plain": [
       "array([0, 0, 0], dtype=int64)"
      ]
     },
     "execution_count": 51,
     "metadata": {},
     "output_type": "execute_result"
    }
   ],
   "source": [
    "ax.argmin(axis=1)     # samjh rahe ho, samjh rahe ho n"
   ]
  },
  {
   "cell_type": "code",
   "execution_count": 52,
   "id": "incomplete-corps",
   "metadata": {},
   "outputs": [
    {
     "data": {
      "text/plain": [
       "array([[0, 1, 2],\n",
       "       [0, 1, 2],\n",
       "       [0, 1, 2]], dtype=int64)"
      ]
     },
     "execution_count": 52,
     "metadata": {},
     "output_type": "execute_result"
    }
   ],
   "source": [
    "ax.argsort()     # gaving the index yar to all the element in sorted form"
   ]
  },
  {
   "cell_type": "code",
   "execution_count": 53,
   "id": "palestinian-protection",
   "metadata": {},
   "outputs": [
    {
     "data": {
      "text/plain": [
       "array([[9, 3, 3, 0],\n",
       "       [3, 5, 7, 2],\n",
       "       [3, 6, 1, 0]])"
      ]
     },
     "execution_count": 53,
     "metadata": {},
     "output_type": "execute_result"
    }
   ],
   "source": [
    "example = np.array([[9, 3, 3, 0], [3, 5, 7, 2], [3, 6, 1, 0]], np.int32)\n",
    "example"
   ]
  },
  {
   "cell_type": "code",
   "execution_count": 54,
   "id": "least-lancaster",
   "metadata": {},
   "outputs": [
    {
     "data": {
      "text/plain": [
       "array([[3, 1, 2, 0],\n",
       "       [3, 0, 1, 2],\n",
       "       [3, 2, 0, 1]], dtype=int64)"
      ]
     },
     "execution_count": 54,
     "metadata": {},
     "output_type": "execute_result"
    }
   ],
   "source": [
    "example.argsort()    # dekh rahe ho, sort kerke de diya na, esse hum axis ke sath bhi kr sakte hai yad rakhna\n",
    "\n",
    "# axis=1 by default, samjh rahe ho balak"
   ]
  },
  {
   "cell_type": "code",
   "execution_count": 55,
   "id": "comic-thumb",
   "metadata": {},
   "outputs": [
    {
     "data": {
      "text/plain": [
       "array([[1, 0, 2, 0],\n",
       "       [2, 1, 0, 2],\n",
       "       [0, 2, 1, 1]], dtype=int64)"
      ]
     },
     "execution_count": 55,
     "metadata": {},
     "output_type": "execute_result"
    }
   ],
   "source": [
    "example.argsort(axis=0)    # here the all elements are on its own place, but assuming the axis 0 we are getting the sorted form"
   ]
  },
  {
   "cell_type": "code",
   "execution_count": null,
   "id": "dated-moment",
   "metadata": {},
   "outputs": [],
   "source": []
  },
  {
   "cell_type": "code",
   "execution_count": 56,
   "id": "united-chaos",
   "metadata": {},
   "outputs": [
    {
     "data": {
      "text/plain": [
       "array([9, 3, 3, 0, 3, 5, 7, 2, 3, 6, 1, 0])"
      ]
     },
     "execution_count": 56,
     "metadata": {},
     "output_type": "execute_result"
    }
   ],
   "source": [
    "example.ravel()"
   ]
  },
  {
   "cell_type": "code",
   "execution_count": 58,
   "id": "single-planet",
   "metadata": {},
   "outputs": [
    {
     "data": {
      "text/plain": [
       "array([[9, 3, 3, 0],\n",
       "       [3, 5, 7, 2],\n",
       "       [3, 6, 1, 0]])"
      ]
     },
     "execution_count": 58,
     "metadata": {},
     "output_type": "execute_result"
    }
   ],
   "source": [
    "example.reshape(3, 4)"
   ]
  },
  {
   "cell_type": "code",
   "execution_count": null,
   "id": "according-qualification",
   "metadata": {},
   "outputs": [],
   "source": []
  },
  {
   "cell_type": "code",
   "execution_count": null,
   "id": "broke-basin",
   "metadata": {},
   "outputs": [],
   "source": []
  },
  {
   "cell_type": "markdown",
   "id": "excessive-dispute",
   "metadata": {},
   "source": [
    "## ***Operators usinhg Numpy, Mathematically Operations and all***"
   ]
  },
  {
   "cell_type": "code",
   "execution_count": null,
   "id": "southern-green",
   "metadata": {},
   "outputs": [],
   "source": []
  }
 ],
 "metadata": {
  "kernelspec": {
   "display_name": "Python 3 (ipykernel)",
   "language": "python",
   "name": "python3"
  },
  "language_info": {
   "codemirror_mode": {
    "name": "ipython",
    "version": 3
   },
   "file_extension": ".py",
   "mimetype": "text/x-python",
   "name": "python",
   "nbconvert_exporter": "python",
   "pygments_lexer": "ipython3",
   "version": "3.9.6"
  }
 },
 "nbformat": 4,
 "nbformat_minor": 5
}
